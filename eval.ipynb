{
 "cells": [
  {
   "cell_type": "markdown",
   "metadata": {},
   "source": [
    "## Inference\n",
    "If you haven't trained the style transfer model, download model's checkpoint from [Here](https://drive.google.com/drive/folders/1C4zxaNO-WTZ4bqZthiIXeNJkl2liYkss?usp=share_link). Also get the test data from [Here](https://drive.google.com/file/d/1awdWvpehq0aYXVHkfO-V0af4DSIZQvNO/view?usp=share_link). "
   ]
  },
  {
   "cell_type": "code",
   "execution_count": null,
   "metadata": {},
   "outputs": [],
   "source": [
    "!python main.py test transfer --input test_shekaste_labeled"
   ]
  },
  {
   "cell_type": "markdown",
   "metadata": {},
   "source": [
    "## Evaluation (Syle Transfer Accuracy & Similarity & Fluency)\n",
    "Download style classifier model checkpoints & evaluation data from [Here](https://drive.google.com/drive/folders/1Cjc5yAnFuC8_d4ueZq6vmO4VB1pW9Awd?usp=sharing)."
   ]
  },
  {
   "cell_type": "code",
   "execution_count": null,
   "metadata": {},
   "outputs": [],
   "source": [
    "!python eval.py --input test_file"
   ]
  }
 ],
 "metadata": {
  "kernelspec": {
   "display_name": "Python 3.8.6 64-bit",
   "language": "python",
   "name": "python3"
  },
  "language_info": {
   "name": "python",
   "version": "3.8.6"
  },
  "orig_nbformat": 4,
  "vscode": {
   "interpreter": {
    "hash": "7e85ec9bf098c5427e45e2f632dcd4eeff803b007e1abd287d600879388709c1"
   }
  }
 },
 "nbformat": 4,
 "nbformat_minor": 2
}
